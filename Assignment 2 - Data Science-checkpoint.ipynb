{
 "cells": [
  {
   "cell_type": "code",
   "execution_count": 47,
   "id": "837e62f4",
   "metadata": {},
   "outputs": [],
   "source": [
    "import numpy as np\n",
    "import pandas as pd\n",
    "import matplotlib.pyplot as plt\n",
    "import nltk\n",
    "import collections\n",
    "import time\n",
    "from sklearn.metrics import mean_squared_error\n"
   ]
  },
  {
   "cell_type": "code",
   "execution_count": 40,
   "id": "92012f6e",
   "metadata": {},
   "outputs": [],
   "source": [
    "paadje_attributes = r'C:\\Users\\deanv\\Desktop\\Vakken I&E\\Jaar 3\\Data Science\\A2\\home-depot-product-search-relevance\\attributes.csv\\attributes.csv'\n",
    "paadje_product = r'C:\\Users\\deanv\\Desktop\\Vakken I&E\\Jaar 3\\Data Science\\A2\\home-depot-product-search-relevance\\product_descriptions.csv\\product_descriptions.csv'\n",
    "paadje_sample = r'C:\\Users\\deanv\\Desktop\\Vakken I&E\\Jaar 3\\Data Science\\A2\\home-depot-product-search-relevance\\sample_submission.csv\\sample_submission.csv'\n",
    "paadje_train = r'C:\\Users\\deanv\\Desktop\\Vakken I&E\\Jaar 3\\Data Science\\A2\\home-depot-product-search-relevance\\train.csv\\train.csv'\n",
    "paadje_test = r'C:\\Users\\deanv\\Desktop\\Vakken I&E\\Jaar 3\\Data Science\\A2\\home-depot-product-search-relevance\\test.csv\\test.csv'\n",
    "\n",
    "attributes = pd.read_csv(paadje_attributes)\n",
    "product = pd.read_csv(paadje_product)\n",
    "sample = pd.read_csv(paadje_sample)\n",
    "train = pd.read_csv(paadje_train, encoding = \"ISO-8859-1\")\n",
    "test = pd.read_csv(paadje_test, encoding = \"ISO-8859-1\")\n",
    "\n"
   ]
  },
  {
   "cell_type": "code",
   "execution_count": 4,
   "id": "59f2e46d",
   "metadata": {},
   "outputs": [],
   "source": []
  },
  {
   "cell_type": "code",
   "execution_count": 4,
   "id": "9808bb9f",
   "metadata": {},
   "outputs": [
    {
     "name": "stdout",
     "output_type": "stream",
     "text": [
      "53489 74067 74067\n",
      "11795 74067 74067\n",
      "No.of.unique values : 53489\n",
      "73392\n",
      "74067 74067 74067\n"
     ]
    }
   ],
   "source": [
    "#print(train)\n",
    "\n",
    "unique_t = train['product_title'].nunique()\n",
    "count_t = train['product_title'].count()\n",
    "size_t = train['product_title'].size\n",
    "\n",
    "print(unique_t, count_t, size_t)\n",
    "\n",
    "unique_q = train['search_term'].nunique()\n",
    "count_q = train['search_term'].count()\n",
    "size_q = train['search_term'].size\n",
    "\n",
    "print(unique_q, count_q, size_q)\n",
    "\n",
    "#print(train['product_title'][3] + train['search_term'][3])\n",
    "unique_pairs = []\n",
    "for i in range(len(train['product_title'])):\n",
    "    unique_pairs.append(train['product_title'][i] + \" \" + train['search_term'][i])\n",
    "\n",
    "    \n",
    "ns = pd.unique(train['search_term'])\n",
    " \n",
    "#print(\"No.of.unique values :\", ns)\n",
    "\n",
    "nprod = len(pd.unique(train['product_title']))\n",
    " \n",
    "print(\"No.of.unique values :\", \n",
    "      nprod)\n",
    "\n",
    "print(len(set(unique_pairs)))\n",
    "print(len(train['product_title']), len(train['search_term']), len(train['id']))\n",
    "\n"
   ]
  },
  {
   "cell_type": "code",
   "execution_count": 65,
   "id": "b3bd2407",
   "metadata": {},
   "outputs": [
    {
     "name": "stdout",
     "output_type": "stream",
     "text": [
      "552\n",
      "['# 62 Sweetheart 14 in. Low Angle Jack Plane hand planes'\n",
      " '#10 x 5/8 in. Zinc-Plated Self-Drilling Pan-Head Phillips Drive Sheet Metal Screw (100-Piece) screw in metal plated'\n",
      " '#10-24 x 2-1/2 in. Brass Hanger Bolt (2-Piece) 1/2 brass' ...\n",
      " 'threeDwall 32 sq. ft. Plant Fiber Wainscot Wall Panel plants moses in a cradle'\n",
      " 'threeDwall 32 sq. ft. Plant Fiber Wainscot Wall Panel wainscot plank paneling'\n",
      " 'threeDwall 32.4 in. x 21.6 in. x 1 in. Off-White Plant Fiber Glue-On Wainscot Wall Panel (6-Pack) return on plant'] 8\n"
     ]
    }
   ],
   "source": [
    "print(len([item for item, count in collections.Counter(unique_pairs).items() if count > 1]))\n",
    "\n",
    "values, counts = np.unique(unique_pairs, return_counts=True)\n",
    "#print(values, max(counts))"
   ]
  },
  {
   "cell_type": "code",
   "execution_count": 78,
   "id": "128edaf3",
   "metadata": {},
   "outputs": [
    {
     "name": "stdout",
     "output_type": "stream",
     "text": [
      "0    Lithonia Lighting All Season 4 ft. 2-Light Gre...\n",
      "1    Pressure-Treated Timber #2 Southern Yellow Pin...\n",
      "Name: product_title, dtype: object\n"
     ]
    }
   ],
   "source": [
    "print(train.product_title.mode())"
   ]
  },
  {
   "cell_type": "code",
   "execution_count": 9,
   "id": "001618fc",
   "metadata": {},
   "outputs": [
    {
     "name": "stdout",
     "output_type": "stream",
     "text": [
      "2.3816337910270433\n",
      "2.33\n",
      "0.533980343669138\n"
     ]
    }
   ],
   "source": [
    "relevance = train['relevance']\n",
    "rel_mean = np.mean(relevance)\n",
    "rel_median = np.median(relevance)\n",
    "rel_std = np.std(relevance)\n",
    "\n",
    "print(rel_mean)\n",
    "print(rel_median)\n",
    "print(rel_std)"
   ]
  },
  {
   "cell_type": "code",
   "execution_count": 32,
   "id": "d0cf85d7",
   "metadata": {
    "scrolled": true
   },
   "outputs": [
    {
     "name": "stdout",
     "output_type": "stream",
     "text": [
      "13\n",
      "Counter({3.0: 19125, 2.33: 16060, 2.67: 15202, 2.0: 11730, 1.67: 6780, 1.33: 3006, 1.0: 2105, 2.5: 19, 2.75: 11, 2.25: 11, 1.75: 9, 1.5: 5, 1.25: 4})\n"
     ]
    },
    {
     "data": {
      "image/png": "[encoded data removed]",
      "text/plain": [
       "<Figure size 432x288 with 1 Axes>"
      ]
     },
     "metadata": {
      "needs_background": "light"
     },
     "output_type": "display_data"
    }
   ],
   "source": [
    "fig, ax = plt.subplots(1, 1)\n",
    "ax.hist(relevance, bins=7, color='skyblue', edgecolor='black')\n",
    "plt.grid(axis='y', alpha=0.75)\n",
    "plt.xlabel('Relevance value')\n",
    "plt.ylabel('Frequency')\n",
    "plt.title('Frequency of relevance values')\n",
    "\n",
    "set_rel = set(relevance)\n",
    "print(len(set_rel))\n",
    "from collections import Counter\n",
    "print(Counter(relevance))\n"
   ]
  },
  {
   "cell_type": "code",
   "execution_count": 53,
   "id": "e8f2cc42",
   "metadata": {},
   "outputs": [],
   "source": [
    "brands = []\n",
    "for i in range(len(attributes['name'])):\n",
    "    if attributes['name'][i] == 'MFG Brand Name':\n",
    "        #print(attributes['value'][i])\n",
    "        brands.append(attributes['value'][i])\n",
    "    \n",
    "\n",
    "\n",
    "for i in range(len(brands)):\n",
    "    brands[i] = str(brands[i])"
   ]
  },
  {
   "cell_type": "code",
   "execution_count": 55,
   "id": "257402cb",
   "metadata": {},
   "outputs": [],
   "source": [
    "#print(len(brands))\n",
    "set_brands = set(brands)\n",
    "#print(len(set_brands))\n",
    "#print(set_brands)\n",
    "occurrences_brands = []\n",
    "\n",
    "for i in train['product_title']:\n",
    "    for j in set_brands:\n",
    "        if j in i:\n",
    "            occurrences_brands.append(j)\n",
    "\n",
    "\n"
   ]
  },
  {
   "cell_type": "code",
   "execution_count": 60,
   "id": "29ece986",
   "metadata": {},
   "outputs": [],
   "source": [
    "#print(Counter(brands))\n",
    "#print(Counter(occurrences_brands))"
   ]
  },
  {
   "cell_type": "code",
   "execution_count": null,
   "id": "45a15d0c",
   "metadata": {},
   "outputs": [],
   "source": []
  },
  {
   "cell_type": "code",
   "execution_count": 73,
   "id": "f8dfc38a",
   "metadata": {},
   "outputs": [
    {
     "name": "stdout",
     "output_type": "stream",
     "text": [
      "--- 133.06512999534607 seconds ---\n",
      "Excluding stemming--- 2.495979070663452 seconds ---\n",
      "0.48413121714436763\n"
     ]
    }
   ],
   "source": [
    "import numpy as np\n",
    "import pandas as pd\n",
    "from sklearn.ensemble import RandomForestRegressor, BaggingRegressor\n",
    "from nltk.stem.snowball import SnowballStemmer\n",
    "from sklearn.model_selection import train_test_split\n",
    "\n",
    "start_time = time.time()\n",
    "stemmer = SnowballStemmer('english')\n",
    "\n",
    "\n",
    "df_train0 = pd.read_csv(r'C:\\Users\\deanv\\Desktop\\Vakken I&E\\Jaar 3\\Data Science\\A2\\home-depot-product-search-relevance\\train.csv\\train.csv', encoding=\"ISO-8859-1\")\n",
    "df_test0 = pd.read_csv(r'C:\\Users\\deanv\\Desktop\\Vakken I&E\\Jaar 3\\Data Science\\A2\\home-depot-product-search-relevance\\test.csv\\test.csv', encoding=\"ISO-8859-1\")\n",
    "# df_attr = pd.read_csv('../input/attributes.csv')\n",
    "df_pro_desc = pd.read_csv(r'C:\\Users\\deanv\\Desktop\\Vakken I&E\\Jaar 3\\Data Science\\A2\\home-depot-product-search-relevance\\product_descriptions.csv\\product_descriptions.csv')\n",
    "\n",
    "\n",
    "\n",
    "def str_stemmer(s):\n",
    "    return \" \".join([stemmer.stem(word) for word in s.lower().split()])\n",
    "\n",
    "def str_common_word(str1, str2):\n",
    "    return sum(int(str2.find(word)>=0) for word in str1.split())\n",
    "\n",
    "\n",
    "df_train, df_test = train_test_split(df_train0, test_size=0.2, random_state=4)\n",
    "num_train = df_train.shape[0]\n",
    "\n",
    "df_all = df_train\n",
    "\n",
    "df_all = pd.merge(df_all, df_pro_desc, how='left', on='product_uid')\n",
    "\n",
    "df_all['search_term'] = df_all['search_term'].map(lambda x:str_stemmer(x))\n",
    "df_all['product_title'] = df_all['product_title'].map(lambda x:str_stemmer(x))\n",
    "df_all['product_description'] = df_all['product_description'].map(lambda x:str_stemmer(x))\n",
    "\n",
    "df_all['len_of_query'] = df_all['search_term'].map(lambda x:len(x.split())).astype(np.int64)\n",
    "\n",
    "df_all['product_info'] = df_all['search_term']+\"\\t\"+df_all['product_title']+\"\\t\"+df_all['product_description']\n",
    "\n",
    "df_all['word_in_title'] = df_all['product_info'].map(lambda x:str_common_word(x.split('\\t')[0],x.split('\\t')[1]))\n",
    "df_all['word_in_description'] = df_all['product_info'].map(lambda x:str_common_word(x.split('\\t')[0],x.split('\\t')[2]))\n",
    "\n",
    "df_all = df_all.drop(['search_term','product_title','product_description','product_info'],axis=1)\n",
    "\n",
    "df_train, df_test = train_test_split(df_all, test_size=0.2)\n",
    "#df_test = df_all.iloc[num_train:]\n",
    "id_test = df_test['id']\n",
    "y_true = df_test['relevance'].values\n",
    "y_train = df_train['relevance'].values\n",
    "X_train = df_train.drop(['id','relevance'],axis=1).values\n",
    "X_test = df_test.drop(['id','relevance'],axis=1).values\n",
    "\n",
    "start_time2 = time.time()\n",
    "rf = RandomForestRegressor(n_estimators=19, max_depth=7, random_state=0)\n",
    "clf = BaggingRegressor(rf, n_estimators=10, max_samples=0.1, random_state=25)\n",
    "clf.fit(X_train, y_train)\n",
    "y_pred = clf.predict(X_test)\n",
    "print(\"--- %s seconds ---\" % (time.time() - start_time))\n",
    "print(\"Excluding stemming--- %s seconds ---\" % (time.time() - start_time2))\n",
    "RMSE = np.sqrt(mean_squared_error(y_true, y_pred))\n",
    "print(RMSE)"
   ]
  },
  {
   "cell_type": "code",
   "execution_count": 53,
   "id": "e8373d20",
   "metadata": {},
   "outputs": [
    {
     "name": "stdout",
     "output_type": "stream",
     "text": [
      "--- 15.215252161026001 seconds ---\n",
      "4.9091159677052634e+17\n"
     ]
    }
   ],
   "source": [
    "\n"
   ]
  },
  {
   "cell_type": "code",
   "execution_count": 60,
   "id": "3c5529c7",
   "metadata": {},
   "outputs": [
    {
     "name": "stdout",
     "output_type": "stream",
     "text": [
      "Including stemming--- 142.2824730873108 seconds ---\n",
      "Excluding stemming--- 15.042523860931396 seconds ---\n",
      "2.1473020906944115e+17\n"
     ]
    }
   ],
   "source": [
    "import numpy as np\n",
    "import pandas as pd\n",
    "from sklearn.svm import SVR\n",
    "from sklearn.neural_network import MLPRegressor\n",
    "from sklearn.linear_model import SGDRegressor\n",
    "from sklearn.ensemble import RandomForestRegressor, BaggingRegressor\n",
    "from nltk.stem.snowball import SnowballStemmer\n",
    "from sklearn.model_selection import train_test_split\n",
    "from sklearn.linear_model import LogisticRegression\n",
    "\n",
    "start_time = time.time()\n",
    "stemmer = SnowballStemmer('english')\n",
    "\n",
    "\n",
    "df_train0 = pd.read_csv(r'C:\\Users\\deanv\\Desktop\\Vakken I&E\\Jaar 3\\Data Science\\A2\\home-depot-product-search-relevance\\train.csv\\train.csv', encoding=\"ISO-8859-1\")\n",
    "df_test0 = pd.read_csv(r'C:\\Users\\deanv\\Desktop\\Vakken I&E\\Jaar 3\\Data Science\\A2\\home-depot-product-search-relevance\\test.csv\\test.csv', encoding=\"ISO-8859-1\")\n",
    "# df_attr = pd.read_csv('../input/attributes.csv')\n",
    "df_pro_desc = pd.read_csv(r'C:\\Users\\deanv\\Desktop\\Vakken I&E\\Jaar 3\\Data Science\\A2\\home-depot-product-search-relevance\\product_descriptions.csv\\product_descriptions.csv')\n",
    "\n",
    "\n",
    "\n",
    "def str_stemmer(s):\n",
    "    return \" \".join([stemmer.stem(word) for word in s.lower().split()])\n",
    "\n",
    "def str_common_word(str1, str2):\n",
    "    return sum(int(str2.find(word)>=0) for word in str1.split())\n",
    "\n",
    "\n",
    "df_train, df_test = train_test_split(df_train0, test_size=0.2, random_state=4)\n",
    "num_train = df_train.shape[0]\n",
    "\n",
    "df_all = df_train\n",
    "\n",
    "df_all = pd.merge(df_all, df_pro_desc, how='left', on='product_uid')\n",
    "\n",
    "df_all['search_term'] = df_all['search_term'].map(lambda x:str_stemmer(x))\n",
    "df_all['product_title'] = df_all['product_title'].map(lambda x:str_stemmer(x))\n",
    "df_all['product_description'] = df_all['product_description'].map(lambda x:str_stemmer(x))\n",
    "\n",
    "df_all['len_of_query'] = df_all['search_term'].map(lambda x:len(x.split())).astype(np.int64)\n",
    "\n",
    "df_all['product_info'] = df_all['search_term']+\"\\t\"+df_all['product_title']+\"\\t\"+df_all['product_description']\n",
    "\n",
    "df_all['word_in_title'] = df_all['product_info'].map(lambda x:str_common_word(x.split('\\t')[0],x.split('\\t')[1]))\n",
    "df_all['word_in_description'] = df_all['product_info'].map(lambda x:str_common_word(x.split('\\t')[0],x.split('\\t')[2]))\n",
    "\n",
    "df_all = df_all.drop(['search_term','product_title','product_description','product_info'],axis=1)\n",
    "\n",
    "df_train, df_test = train_test_split(df_all, test_size=0.2)\n",
    "#df_test = df_all.iloc[num_train:]\n",
    "id_test = df_test['id']\n",
    "y_true = df_test['relevance'].values\n",
    "y_train = df_train['relevance'].values\n",
    "X_train = df_train.drop(['id','relevance'],axis=1).values\n",
    "X_test = df_test.drop(['id','relevance'],axis=1).values\n",
    "\n",
    "start_time2 = time.time()\n",
    "rf = SGDRegressor(max_iter=1000)\n",
    "clf = BaggingRegressor(rf, n_estimators=45, max_samples=0.1, random_state=25)\n",
    "clf.fit(X_train, y_train)\n",
    "y_pred = clf.predict(X_test)\n",
    "print(\"Including stemming--- %s seconds ---\" % (time.time() - start_time))\n",
    "print(\"Excluding stemming--- %s seconds ---\" % (time.time() - start_time2))\n",
    "RMSE = np.sqrt(mean_squared_error(y_true, y_pred))\n",
    "print(RMSE)"
   ]
  },
  {
   "cell_type": "code",
   "execution_count": 77,
   "id": "c2f3e2fd",
   "metadata": {},
   "outputs": [
    {
     "name": "stdout",
     "output_type": "stream",
     "text": [
      "1 0.5232075785717611\n",
      "2 0.5104445364393551\n",
      "3 0.5009242330643813\n",
      "4 0.48908539629936243\n",
      "5 0.4849661902949781\n",
      "6 0.4807077237853656\n",
      "7 0.4777764787348134\n",
      "8 0.4748168307040357\n",
      "9 0.4709949474693663\n",
      "10 0.46595011839051487\n",
      "11 0.45949095440160265\n",
      "12 0.4516076680521388\n",
      "13 0.44212492654592733\n",
      "14 0.43171950327831243\n",
      "15 0.42048516726994223\n",
      "16 0.4085952438034016\n"
     ]
    },
    {
     "ename": "AttributeError",
     "evalue": "'RandomForestRegressor' object has no attribute 'cv_results_'",
     "output_type": "error",
     "traceback": [
      "\u001b[1;31m---------------------------------------------------------------------------\u001b[0m",
      "\u001b[1;31mAttributeError\u001b[0m                            Traceback (most recent call last)",
      "Input \u001b[1;32mIn [77]\u001b[0m, in \u001b[0;36m<cell line: 19>\u001b[1;34m()\u001b[0m\n\u001b[0;32m     16\u001b[0m     RMSE \u001b[38;5;241m=\u001b[39m np\u001b[38;5;241m.\u001b[39msqrt(mean_squared_error(y_train, y_pred))\n\u001b[0;32m     17\u001b[0m     \u001b[38;5;28mprint\u001b[39m(i, RMSE)\n\u001b[1;32m---> 19\u001b[0m \u001b[38;5;28msorted\u001b[39m(\u001b[43mclf\u001b[49m\u001b[38;5;241;43m.\u001b[39;49m\u001b[43mcv_results_\u001b[49m\u001b[38;5;241m.\u001b[39mkeys())\n",
      "\u001b[1;31mAttributeError\u001b[0m: 'RandomForestRegressor' object has no attribute 'cv_results_'"
     ]
    }
   ],
   "source": [
    "from sklearn.model_selection import GridSearchCV\n",
    "\n",
    "df_train, df_test = train_test_split(df_train0, test_size=0.2, random_state=4)\n",
    "df_trainhpo, df_hpotest = train_test_split(df_train, test_size=0.2, random_state=4)\n",
    "\n",
    "y_true = df_hpotest['relevance'].values\n",
    "y_train = df_train['relevance'].values\n",
    "X_train = df_train.drop(['id','relevance'],axis=1).values\n",
    "X_test = df_hpotest.drop(['id','relevance'],axis=1).values\n",
    "\n",
    "estimators_forest = list(np.arange(1, 17))\n",
    "parameters = {'n_estimators': estimators_forest, 'max_depth':[1, 2, 3, 4, 5, 6, 7, 8, 9, 10]}\n",
    "\n",
    "#clf = GridSearchCV(svc, parameters)\n",
    "\n",
    "rf = RandomForestRegressor()\n",
    "clf = GridSearchCV(rf, parameters, scoring='neg_root_mean_squared_error')\n",
    "#clf = BaggingRegressor(rf, n_estimators=45, max_samples=0.1, random_state=25)\n",
    "\n",
    "for i in estimators_forest: \n",
    "    clf = RandomForestRegressor(n_estimators=10, max_depth=i, random_state=0)\n",
    "    clf.fit(X_train, y_train)\n",
    "    y_pred = clf.predict(X_train)\n",
    "    RMSE = np.sqrt(mean_squared_error(y_train, y_pred))\n",
    "    print(i, RMSE)\n",
    "\n",
    "sorted(clf.cv_results_.keys())"
   ]
  },
  {
   "cell_type": "code",
   "execution_count": null,
   "id": "b7b5bf84",
   "metadata": {},
   "outputs": [],
   "source": []
  },
  {
   "cell_type": "code",
   "execution_count": null,
   "id": "4578618c",
   "metadata": {},
   "outputs": [],
   "source": []
  },
  {
   "cell_type": "code",
   "execution_count": null,
   "id": "0ead34f9",
   "metadata": {},
   "outputs": [],
   "source": []
  },
  {
   "cell_type": "code",
   "execution_count": null,
   "id": "53313cd3",
   "metadata": {},
   "outputs": [],
   "source": []
  },
  {
   "cell_type": "code",
   "execution_count": null,
   "id": "2f3a7100",
   "metadata": {},
   "outputs": [],
   "source": []
  },
  {
   "cell_type": "code",
   "execution_count": null,
   "id": "765148d6",
   "metadata": {},
   "outputs": [],
   "source": []
  },
  {
   "cell_type": "code",
   "execution_count": 7,
   "id": "0176feb0",
   "metadata": {},
   "outputs": [
    {
     "name": "stdout",
     "output_type": "stream",
     "text": [
      "[2.22770045 2.48865387 2.67846519 ... 2.12279095 2.74176546 2.31971448]\n"
     ]
    }
   ],
   "source": [
    "\n",
    "\n",
    "RMSE = np.sqrt(mean_squared_error(y_true, y_pred))\n",
    "print()"
   ]
  },
  {
   "cell_type": "code",
   "execution_count": 33,
   "id": "b8d44df6",
   "metadata": {},
   "outputs": [],
   "source": [
    "\n",
    "\n",
    "\n",
    "df_train, df_test = train_test_split(df_train0, test_size=0.2, random_state=4)\n",
    "num_train = df_train.shape[0]\n",
    "\n",
    "df_all = df_train\n",
    "\n",
    "df_all = pd.merge(df_all, df_pro_desc, how='left', on='product_uid')\n",
    "\n",
    "df_all['search_term'] = df_all['search_term'].map(lambda x:str_stemmer(x))\n",
    "df_all['product_title'] = df_all['product_title'].map(lambda x:str_stemmer(x))\n",
    "df_all['product_description'] = df_all['product_description'].map(lambda x:str_stemmer(x))\n",
    "df_all['product_info'] = df_all['search_term']+\"\\t\"+df_all['product_title']+\"\\t\"+df_all['product_description']\n"
   ]
  },
  {
   "cell_type": "code",
   "execution_count": 46,
   "id": "6db74d98",
   "metadata": {},
   "outputs": [
    {
     "ename": "AttributeError",
     "evalue": "module 'numpy' has no attribute 'typeDict'",
     "output_type": "error",
     "traceback": [
      "\u001b[1;31m---------------------------------------------------------------------------\u001b[0m",
      "\u001b[1;31mAttributeError\u001b[0m                            Traceback (most recent call last)",
      "Input \u001b[1;32mIn [46]\u001b[0m, in \u001b[0;36m<cell line: 1>\u001b[1;34m()\u001b[0m\n\u001b[1;32m----> 1\u001b[0m \u001b[38;5;28;01mimport\u001b[39;00m \u001b[38;5;21;01mspacy\u001b[39;00m\n\u001b[0;32m      3\u001b[0m nlp \u001b[38;5;241m=\u001b[39m spacy\u001b[38;5;241m.\u001b[39mload(\u001b[38;5;124m\"\u001b[39m\u001b[38;5;124menglish\u001b[39m\u001b[38;5;124m\"\u001b[39m)\n\u001b[0;32m      4\u001b[0m doc \u001b[38;5;241m=\u001b[39m nlp(\u001b[38;5;124m\"\u001b[39m\u001b[38;5;124mThis is a sentence.\u001b[39m\u001b[38;5;124m\"\u001b[39m)\n",
      "File \u001b[1;32m~\\AppData\\Roaming\\Python\\Python38\\site-packages\\spacy\\__init__.py:6\u001b[0m, in \u001b[0;36m<module>\u001b[1;34m\u001b[0m\n\u001b[0;32m      3\u001b[0m \u001b[38;5;28;01mfrom\u001b[39;00m \u001b[38;5;21;01mtyping\u001b[39;00m \u001b[38;5;28;01mimport\u001b[39;00m Any, Dict, Iterable, Union\n\u001b[0;32m      5\u001b[0m \u001b[38;5;66;03m# set library-specific custom warning handling before doing anything else\u001b[39;00m\n\u001b[1;32m----> 6\u001b[0m \u001b[38;5;28;01mfrom\u001b[39;00m \u001b[38;5;21;01m.\u001b[39;00m\u001b[38;5;21;01merrors\u001b[39;00m \u001b[38;5;28;01mimport\u001b[39;00m setup_default_warnings\n\u001b[0;32m      8\u001b[0m setup_default_warnings()  \u001b[38;5;66;03m# noqa: E402\u001b[39;00m\n\u001b[0;32m     10\u001b[0m \u001b[38;5;66;03m# These are imported as part of the API\u001b[39;00m\n",
      "File \u001b[1;32m~\\AppData\\Roaming\\Python\\Python38\\site-packages\\spacy\\errors.py:3\u001b[0m, in \u001b[0;36m<module>\u001b[1;34m\u001b[0m\n\u001b[0;32m      1\u001b[0m \u001b[38;5;28;01mimport\u001b[39;00m \u001b[38;5;21;01mwarnings\u001b[39;00m\n\u001b[1;32m----> 3\u001b[0m \u001b[38;5;28;01mfrom\u001b[39;00m \u001b[38;5;21;01m.\u001b[39;00m\u001b[38;5;21;01mcompat\u001b[39;00m \u001b[38;5;28;01mimport\u001b[39;00m Literal\n\u001b[0;32m      6\u001b[0m \u001b[38;5;28;01mclass\u001b[39;00m \u001b[38;5;21;01mErrorsWithCodes\u001b[39;00m(\u001b[38;5;28mtype\u001b[39m):\n\u001b[0;32m      7\u001b[0m     \u001b[38;5;28;01mdef\u001b[39;00m \u001b[38;5;21m__getattribute__\u001b[39m(\u001b[38;5;28mself\u001b[39m, code):\n",
      "File \u001b[1;32m~\\AppData\\Roaming\\Python\\Python38\\site-packages\\spacy\\compat.py:4\u001b[0m, in \u001b[0;36m<module>\u001b[1;34m\u001b[0m\n\u001b[0;32m      1\u001b[0m \u001b[38;5;124;03m\"\"\"Helpers for Python and platform compatibility.\"\"\"\u001b[39;00m\n\u001b[0;32m      2\u001b[0m \u001b[38;5;28;01mimport\u001b[39;00m \u001b[38;5;21;01msys\u001b[39;00m\n\u001b[1;32m----> 4\u001b[0m \u001b[38;5;28;01mfrom\u001b[39;00m \u001b[38;5;21;01mthinc\u001b[39;00m\u001b[38;5;21;01m.\u001b[39;00m\u001b[38;5;21;01mutil\u001b[39;00m \u001b[38;5;28;01mimport\u001b[39;00m copy_array\n\u001b[0;32m      6\u001b[0m \u001b[38;5;28;01mtry\u001b[39;00m:\n\u001b[0;32m      7\u001b[0m     \u001b[38;5;28;01mimport\u001b[39;00m \u001b[38;5;21;01mcPickle\u001b[39;00m \u001b[38;5;28;01mas\u001b[39;00m \u001b[38;5;21;01mpickle\u001b[39;00m\n",
      "File \u001b[1;32m~\\AppData\\Roaming\\Python\\Python38\\site-packages\\thinc\\__init__.py:5\u001b[0m, in \u001b[0;36m<module>\u001b[1;34m\u001b[0m\n\u001b[0;32m      2\u001b[0m \u001b[38;5;28;01mimport\u001b[39;00m \u001b[38;5;21;01mnumpy\u001b[39;00m\n\u001b[0;32m      4\u001b[0m \u001b[38;5;28;01mfrom\u001b[39;00m \u001b[38;5;21;01m.\u001b[39;00m\u001b[38;5;21;01mabout\u001b[39;00m \u001b[38;5;28;01mimport\u001b[39;00m __version__\n\u001b[1;32m----> 5\u001b[0m \u001b[38;5;28;01mfrom\u001b[39;00m \u001b[38;5;21;01m.\u001b[39;00m\u001b[38;5;21;01mconfig\u001b[39;00m \u001b[38;5;28;01mimport\u001b[39;00m registry\n\u001b[0;32m      7\u001b[0m \u001b[38;5;66;03m# fmt: off\u001b[39;00m\n\u001b[0;32m      8\u001b[0m __all__ \u001b[38;5;241m=\u001b[39m [\n\u001b[0;32m      9\u001b[0m     \u001b[38;5;124m\"\u001b[39m\u001b[38;5;124mregistry\u001b[39m\u001b[38;5;124m\"\u001b[39m,\n\u001b[0;32m     10\u001b[0m     \u001b[38;5;124m\"\u001b[39m\u001b[38;5;124m__version__\u001b[39m\u001b[38;5;124m\"\u001b[39m,\n\u001b[0;32m     11\u001b[0m ]\n",
      "File \u001b[1;32m~\\AppData\\Roaming\\Python\\Python38\\site-packages\\thinc\\config.py:5\u001b[0m, in \u001b[0;36m<module>\u001b[1;34m\u001b[0m\n\u001b[0;32m      2\u001b[0m \u001b[38;5;28;01mimport\u001b[39;00m \u001b[38;5;21;01mconfection\u001b[39;00m\n\u001b[0;32m      3\u001b[0m \u001b[38;5;28;01mfrom\u001b[39;00m \u001b[38;5;21;01mconfection\u001b[39;00m \u001b[38;5;28;01mimport\u001b[39;00m VARIABLE_RE, Config, ConfigValidationError, Promise\n\u001b[1;32m----> 5\u001b[0m \u001b[38;5;28;01mfrom\u001b[39;00m \u001b[38;5;21;01m.\u001b[39;00m\u001b[38;5;21;01mtypes\u001b[39;00m \u001b[38;5;28;01mimport\u001b[39;00m Decorator\n\u001b[0;32m      8\u001b[0m \u001b[38;5;28;01mclass\u001b[39;00m \u001b[38;5;21;01mregistry\u001b[39;00m(confection\u001b[38;5;241m.\u001b[39mregistry):\n\u001b[0;32m      9\u001b[0m     \u001b[38;5;66;03m# fmt: off\u001b[39;00m\n\u001b[0;32m     10\u001b[0m     optimizers: Decorator \u001b[38;5;241m=\u001b[39m catalogue\u001b[38;5;241m.\u001b[39mcreate(\u001b[38;5;124m\"\u001b[39m\u001b[38;5;124mthinc\u001b[39m\u001b[38;5;124m\"\u001b[39m, \u001b[38;5;124m\"\u001b[39m\u001b[38;5;124moptimizers\u001b[39m\u001b[38;5;124m\"\u001b[39m, entry_points\u001b[38;5;241m=\u001b[39m\u001b[38;5;28;01mTrue\u001b[39;00m)\n",
      "File \u001b[1;32m~\\AppData\\Roaming\\Python\\Python38\\site-packages\\thinc\\types.py:25\u001b[0m, in \u001b[0;36m<module>\u001b[1;34m\u001b[0m\n\u001b[0;32m      4\u001b[0m \u001b[38;5;28;01mfrom\u001b[39;00m \u001b[38;5;21;01mtyping\u001b[39;00m \u001b[38;5;28;01mimport\u001b[39;00m (\n\u001b[0;32m      5\u001b[0m     Any,\n\u001b[0;32m      6\u001b[0m     Callable,\n\u001b[1;32m   (...)\u001b[0m\n\u001b[0;32m     20\u001b[0m     overload,\n\u001b[0;32m     21\u001b[0m )\n\u001b[0;32m     23\u001b[0m \u001b[38;5;28;01mimport\u001b[39;00m \u001b[38;5;21;01mnumpy\u001b[39;00m\n\u001b[1;32m---> 25\u001b[0m \u001b[38;5;28;01mfrom\u001b[39;00m \u001b[38;5;21;01m.\u001b[39;00m\u001b[38;5;21;01mcompat\u001b[39;00m \u001b[38;5;28;01mimport\u001b[39;00m cupy, has_cupy\n\u001b[0;32m     27\u001b[0m \u001b[38;5;28;01mif\u001b[39;00m has_cupy:\n\u001b[0;32m     28\u001b[0m     get_array_module \u001b[38;5;241m=\u001b[39m cupy\u001b[38;5;241m.\u001b[39mget_array_module\n",
      "File \u001b[1;32m~\\AppData\\Roaming\\Python\\Python38\\site-packages\\thinc\\compat.py:96\u001b[0m, in \u001b[0;36m<module>\u001b[1;34m\u001b[0m\n\u001b[0;32m     92\u001b[0m has_mxnet \u001b[38;5;241m=\u001b[39m \u001b[38;5;28;01mFalse\u001b[39;00m\n\u001b[0;32m     95\u001b[0m \u001b[38;5;28;01mtry\u001b[39;00m:\n\u001b[1;32m---> 96\u001b[0m     \u001b[38;5;28;01mimport\u001b[39;00m \u001b[38;5;21;01mh5py\u001b[39;00m\n\u001b[0;32m     97\u001b[0m \u001b[38;5;28;01mexcept\u001b[39;00m \u001b[38;5;167;01mImportError\u001b[39;00m:  \u001b[38;5;66;03m# pragma: no cover\u001b[39;00m\n\u001b[0;32m     98\u001b[0m     h5py \u001b[38;5;241m=\u001b[39m \u001b[38;5;28;01mNone\u001b[39;00m\n",
      "File \u001b[1;32m~\\anaconda3\\lib\\site-packages\\h5py\\__init__.py:46\u001b[0m, in \u001b[0;36m<module>\u001b[1;34m\u001b[0m\n\u001b[0;32m     37\u001b[0m     _warn((\u001b[38;5;124m\"\u001b[39m\u001b[38;5;124mh5py is running against HDF5 \u001b[39m\u001b[38;5;132;01m{0}\u001b[39;00m\u001b[38;5;124m when it was built against \u001b[39m\u001b[38;5;132;01m{1}\u001b[39;00m\u001b[38;5;124m, \u001b[39m\u001b[38;5;124m\"\u001b[39m\n\u001b[0;32m     38\u001b[0m            \u001b[38;5;124m\"\u001b[39m\u001b[38;5;124mthis may cause problems\u001b[39m\u001b[38;5;124m\"\u001b[39m)\u001b[38;5;241m.\u001b[39mformat(\n\u001b[0;32m     39\u001b[0m             \u001b[38;5;124m'\u001b[39m\u001b[38;5;132;01m{0}\u001b[39;00m\u001b[38;5;124m.\u001b[39m\u001b[38;5;132;01m{1}\u001b[39;00m\u001b[38;5;124m.\u001b[39m\u001b[38;5;132;01m{2}\u001b[39;00m\u001b[38;5;124m'\u001b[39m\u001b[38;5;241m.\u001b[39mformat(\u001b[38;5;241m*\u001b[39mversion\u001b[38;5;241m.\u001b[39mhdf5_version_tuple),\n\u001b[0;32m     40\u001b[0m             \u001b[38;5;124m'\u001b[39m\u001b[38;5;132;01m{0}\u001b[39;00m\u001b[38;5;124m.\u001b[39m\u001b[38;5;132;01m{1}\u001b[39;00m\u001b[38;5;124m.\u001b[39m\u001b[38;5;132;01m{2}\u001b[39;00m\u001b[38;5;124m'\u001b[39m\u001b[38;5;241m.\u001b[39mformat(\u001b[38;5;241m*\u001b[39mversion\u001b[38;5;241m.\u001b[39mhdf5_built_version_tuple)\n\u001b[0;32m     41\u001b[0m     ))\n\u001b[0;32m     44\u001b[0m _errors\u001b[38;5;241m.\u001b[39msilence_errors()\n\u001b[1;32m---> 46\u001b[0m \u001b[38;5;28;01mfrom\u001b[39;00m \u001b[38;5;21;01m.\u001b[39;00m\u001b[38;5;21;01m_conv\u001b[39;00m \u001b[38;5;28;01mimport\u001b[39;00m register_converters \u001b[38;5;28;01mas\u001b[39;00m _register_converters\n\u001b[0;32m     47\u001b[0m _register_converters()\n\u001b[0;32m     49\u001b[0m \u001b[38;5;28;01mfrom\u001b[39;00m \u001b[38;5;21;01m.\u001b[39;00m\u001b[38;5;21;01mh5z\u001b[39;00m \u001b[38;5;28;01mimport\u001b[39;00m _register_lzf\n",
      "File \u001b[1;32mh5py\\h5t.pxd:14\u001b[0m, in \u001b[0;36minit h5py._conv\u001b[1;34m()\u001b[0m\n",
      "File \u001b[1;32mh5py\\h5t.pyx:293\u001b[0m, in \u001b[0;36minit h5py.h5t\u001b[1;34m()\u001b[0m\n",
      "File \u001b[1;32m~\\anaconda3\\lib\\site-packages\\numpy\\__init__.py:320\u001b[0m, in \u001b[0;36m__getattr__\u001b[1;34m(attr)\u001b[0m\n\u001b[0;32m    317\u001b[0m     \u001b[38;5;28;01mfrom\u001b[39;00m \u001b[38;5;21;01m.\u001b[39;00m\u001b[38;5;21;01mtesting\u001b[39;00m \u001b[38;5;28;01mimport\u001b[39;00m Tester\n\u001b[0;32m    318\u001b[0m     \u001b[38;5;28;01mreturn\u001b[39;00m Tester\n\u001b[1;32m--> 320\u001b[0m \u001b[38;5;28;01mraise\u001b[39;00m \u001b[38;5;167;01mAttributeError\u001b[39;00m(\u001b[38;5;124m\"\u001b[39m\u001b[38;5;124mmodule \u001b[39m\u001b[38;5;132;01m{!r}\u001b[39;00m\u001b[38;5;124m has no attribute \u001b[39m\u001b[38;5;124m\"\u001b[39m\n\u001b[0;32m    321\u001b[0m                      \u001b[38;5;124m\"\u001b[39m\u001b[38;5;132;01m{!r}\u001b[39;00m\u001b[38;5;124m\"\u001b[39m\u001b[38;5;241m.\u001b[39mformat(\u001b[38;5;18m__name__\u001b[39m, attr))\n",
      "\u001b[1;31mAttributeError\u001b[0m: module 'numpy' has no attribute 'typeDict'"
     ]
    }
   ],
   "source": [
    "import spacy\n",
    "\n",
    "nlp = spacy.load(\"english\")\n",
    "doc = nlp(\"This is a sentence.\")\n",
    "print(doc)"
   ]
  },
  {
   "cell_type": "code",
   "execution_count": 38,
   "id": "0a72fadb",
   "metadata": {},
   "outputs": [
    {
     "name": "stdout",
     "output_type": "stream",
     "text": [
      "                0         1         2\n",
      "000      0.000000  0.000000  0.104043\n",
      "10       0.000000  0.000000  0.052021\n",
      "120      0.000000  0.000000  0.052021\n",
      "20       0.000000  0.000000  0.156064\n",
      "240      0.000000  0.000000  0.104043\n",
      "...           ...       ...       ...\n",
      "weeds12  0.000000  0.074386  0.000000\n",
      "white    0.172377  0.000000  0.000000\n",
      "wood     0.000000  0.074386  0.000000\n",
      "yard     0.000000  0.074386  0.000000\n",
      "year     0.065549  0.113145  0.000000\n",
      "\n",
      "[187 rows x 3 columns]\n"
     ]
    }
   ],
   "source": [
    "from sklearn.feature_extraction.text import TfidfVectorizer\n",
    "vectorizer = TfidfVectorizer(analyzer='word',stop_words= 'english')\n",
    "\n",
    "\n",
    "doc_vec = vectorizer.fit_transform(df_all['product_info'][2:5])\n",
    "\n",
    "df2 = pd.DataFrame(doc_vec.toarray().transpose(),\n",
    "                   index=vectorizer.get_feature_names_out())\n",
    "\n",
    "print(df2)"
   ]
  }
 ],
 "metadata": {
  "kernelspec": {
   "display_name": "Python 3 (ipykernel)",
   "language": "python",
   "name": "python3"
  },
  "language_info": {
   "codemirror_mode": {
    "name": "ipython",
    "version": 3
   },
   "file_extension": ".py",
   "mimetype": "text/x-python",
   "name": "python",
   "nbconvert_exporter": "python",
   "pygments_lexer": "ipython3",
   "version": "3.8.3"
  }
 },
 "nbformat": 4,
 "nbformat_minor": 5
}
