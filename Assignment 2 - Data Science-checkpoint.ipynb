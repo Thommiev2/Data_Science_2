{
 "cells": [
  {
   "cell_type": "code",
   "execution_count": 2,
   "id": "837e62f4",
   "metadata": {},
   "outputs": [],
   "source": [
    "import numpy as np\n",
    "import pandas as pd\n",
    "import matplotlib.pyplot as plt\n",
    "import nltk\n",
    "import collections\n"
   ]
  },
  {
   "cell_type": "code",
   "execution_count": 40,
   "id": "92012f6e",
   "metadata": {},
   "outputs": [],
   "source": [
    "paadje_attributes = r'C:\\Users\\deanv\\Desktop\\Vakken I&E\\Jaar 3\\Data Science\\A2\\home-depot-product-search-relevance\\attributes.csv\\attributes.csv'\n",
    "paadje_product = r'C:\\Users\\deanv\\Desktop\\Vakken I&E\\Jaar 3\\Data Science\\A2\\home-depot-product-search-relevance\\product_descriptions.csv\\product_descriptions.csv'\n",
    "paadje_sample = r'C:\\Users\\deanv\\Desktop\\Vakken I&E\\Jaar 3\\Data Science\\A2\\home-depot-product-search-relevance\\sample_submission.csv\\sample_submission.csv'\n",
    "paadje_train = r'C:\\Users\\deanv\\Desktop\\Vakken I&E\\Jaar 3\\Data Science\\A2\\home-depot-product-search-relevance\\train.csv\\train.csv'\n",
    "paadje_test = r'C:\\Users\\deanv\\Desktop\\Vakken I&E\\Jaar 3\\Data Science\\A2\\home-depot-product-search-relevance\\test.csv\\test.csv'\n",
    "\n",
    "attributes = pd.read_csv(paadje_attributes)\n",
    "product = pd.read_csv(paadje_product)\n",
    "sample = pd.read_csv(paadje_sample)\n",
    "train = pd.read_csv(paadje_train, encoding = \"ISO-8859-1\")\n",
    "test = pd.read_csv(paadje_test, encoding = \"ISO-8859-1\")\n",
    "\n"
   ]
  },
  {
   "cell_type": "code",
   "execution_count": 4,
   "id": "59f2e46d",
   "metadata": {},
   "outputs": [],
   "source": []
  },
  {
   "cell_type": "code",
   "execution_count": 4,
   "id": "9808bb9f",
   "metadata": {},
   "outputs": [
    {
     "name": "stdout",
     "output_type": "stream",
     "text": [
      "53489 74067 74067\n",
      "11795 74067 74067\n",
      "No.of.unique values : 53489\n",
      "73392\n",
      "74067 74067 74067\n"
     ]
    }
   ],
   "source": [
    "#print(train)\n",
    "\n",
    "unique_t = train['product_title'].nunique()\n",
    "count_t = train['product_title'].count()\n",
    "size_t = train['product_title'].size\n",
    "\n",
    "print(unique_t, count_t, size_t)\n",
    "\n",
    "unique_q = train['search_term'].nunique()\n",
    "count_q = train['search_term'].count()\n",
    "size_q = train['search_term'].size\n",
    "\n",
    "print(unique_q, count_q, size_q)\n",
    "\n",
    "#print(train['product_title'][3] + train['search_term'][3])\n",
    "unique_pairs = []\n",
    "for i in range(len(train['product_title'])):\n",
    "    unique_pairs.append(train['product_title'][i] + \" \" + train['search_term'][i])\n",
    "\n",
    "    \n",
    "ns = pd.unique(train['search_term'])\n",
    " \n",
    "#print(\"No.of.unique values :\", ns)\n",
    "\n",
    "nprod = len(pd.unique(train['product_title']))\n",
    " \n",
    "print(\"No.of.unique values :\", \n",
    "      nprod)\n",
    "\n",
    "print(len(set(unique_pairs)))\n",
    "print(len(train['product_title']), len(train['search_term']), len(train['id']))\n",
    "\n"
   ]
  },
  {
   "cell_type": "code",
   "execution_count": 65,
   "id": "b3bd2407",
   "metadata": {},
   "outputs": [
    {
     "name": "stdout",
     "output_type": "stream",
     "text": [
      "552\n",
      "['# 62 Sweetheart 14 in. Low Angle Jack Plane hand planes'\n",
      " '#10 x 5/8 in. Zinc-Plated Self-Drilling Pan-Head Phillips Drive Sheet Metal Screw (100-Piece) screw in metal plated'\n",
      " '#10-24 x 2-1/2 in. Brass Hanger Bolt (2-Piece) 1/2 brass' ...\n",
      " 'threeDwall 32 sq. ft. Plant Fiber Wainscot Wall Panel plants moses in a cradle'\n",
      " 'threeDwall 32 sq. ft. Plant Fiber Wainscot Wall Panel wainscot plank paneling'\n",
      " 'threeDwall 32.4 in. x 21.6 in. x 1 in. Off-White Plant Fiber Glue-On Wainscot Wall Panel (6-Pack) return on plant'] 8\n"
     ]
    }
   ],
   "source": [
    "print(len([item for item, count in collections.Counter(unique_pairs).items() if count > 1]))\n",
    "\n",
    "values, counts = np.unique(unique_pairs, return_counts=True)\n",
    "#print(values, max(counts))"
   ]
  },
  {
   "cell_type": "code",
   "execution_count": 78,
   "id": "128edaf3",
   "metadata": {},
   "outputs": [
    {
     "name": "stdout",
     "output_type": "stream",
     "text": [
      "0    Lithonia Lighting All Season 4 ft. 2-Light Gre...\n",
      "1    Pressure-Treated Timber #2 Southern Yellow Pin...\n",
      "Name: product_title, dtype: object\n"
     ]
    }
   ],
   "source": [
    "print(train.product_title.mode())"
   ]
  },
  {
   "cell_type": "code",
   "execution_count": 9,
   "id": "001618fc",
   "metadata": {},
   "outputs": [
    {
     "name": "stdout",
     "output_type": "stream",
     "text": [
      "2.3816337910270433\n",
      "2.33\n",
      "0.533980343669138\n"
     ]
    }
   ],
   "source": [
    "relevance = train['relevance']\n",
    "rel_mean = np.mean(relevance)\n",
    "rel_median = np.median(relevance)\n",
    "rel_std = np.std(relevance)\n",
    "\n",
    "print(rel_mean)\n",
    "print(rel_median)\n",
    "print(rel_std)"
   ]
  },
  {
   "cell_type": "code",
   "execution_count": 32,
   "id": "d0cf85d7",
   "metadata": {
    "scrolled": true
   },
   "outputs": [
    {
     "name": "stdout",
     "output_type": "stream",
     "text": [
      "13\n",
      "Counter({3.0: 19125, 2.33: 16060, 2.67: 15202, 2.0: 11730, 1.67: 6780, 1.33: 3006, 1.0: 2105, 2.5: 19, 2.75: 11, 2.25: 11, 1.75: 9, 1.5: 5, 1.25: 4})\n"
     ]
    },
    {
     "data": {
      "image/png": "[encoded data removed]",
      "text/plain": [
       "<Figure size 432x288 with 1 Axes>"
      ]
     },
     "metadata": {
      "needs_background": "light"
     },
     "output_type": "display_data"
    }
   ],
   "source": [
    "fig, ax = plt.subplots(1, 1)\n",
    "ax.hist(relevance, bins=7, color='skyblue', edgecolor='black')\n",
    "plt.grid(axis='y', alpha=0.75)\n",
    "plt.xlabel('Relevance value')\n",
    "plt.ylabel('Frequency')\n",
    "plt.title('Frequency of relevance values')\n",
    "\n",
    "set_rel = set(relevance)\n",
    "print(len(set_rel))\n",
    "from collections import Counter\n",
    "print(Counter(relevance))\n"
   ]
  },
  {
   "cell_type": "code",
   "execution_count": 53,
   "id": "e8f2cc42",
   "metadata": {},
   "outputs": [],
   "source": [
    "brands = []\n",
    "for i in range(len(attributes['name'])):\n",
    "    if attributes['name'][i] == 'MFG Brand Name':\n",
    "        #print(attributes['value'][i])\n",
    "        brands.append(attributes['value'][i])\n",
    "    \n",
    "\n",
    "\n",
    "for i in range(len(brands)):\n",
    "    brands[i] = str(brands[i])"
   ]
  },
  {
   "cell_type": "code",
   "execution_count": 55,
   "id": "257402cb",
   "metadata": {},
   "outputs": [],
   "source": [
    "#print(len(brands))\n",
    "set_brands = set(brands)\n",
    "#print(len(set_brands))\n",
    "#print(set_brands)\n",
    "occurrences_brands = []\n",
    "\n",
    "for i in train['product_title']:\n",
    "    for j in set_brands:\n",
    "        if j in i:\n",
    "            occurrences_brands.append(j)\n",
    "\n",
    "\n"
   ]
  },
  {
   "cell_type": "code",
   "execution_count": 60,
   "id": "29ece986",
   "metadata": {},
   "outputs": [],
   "source": [
    "#print(Counter(brands))\n",
    "#print(Counter(occurrences_brands))"
   ]
  },
  {
   "cell_type": "code",
   "execution_count": 68,
   "id": "45a15d0c",
   "metadata": {},
   "outputs": [],
   "source": [
    "import numpy as np\n",
    "import pandas as pd\n",
    "from sklearn.ensemble import RandomForestRegressor, BaggingRegressor\n",
    "from nltk.stem.snowball import SnowballStemmer\n",
    "from sklearn.model_selection import train_test_split\n",
    "\n",
    "stemmer = SnowballStemmer('english')\n",
    "\n",
    "\n",
    "df_train = pd.read_csv(r'C:\\Users\\deanv\\Desktop\\Vakken I&E\\Jaar 3\\Data Science\\A2\\home-depot-product-search-relevance\\train.csv\\train.csv', encoding=\"ISO-8859-1\")\n",
    "df_test = pd.read_csv(r'C:\\Users\\deanv\\Desktop\\Vakken I&E\\Jaar 3\\Data Science\\A2\\home-depot-product-search-relevance\\test.csv\\test.csv', encoding=\"ISO-8859-1\")\n",
    "# df_attr = pd.read_csv('../input/attributes.csv')\n",
    "df_pro_desc = pd.read_csv(r'C:\\Users\\deanv\\Desktop\\Vakken I&E\\Jaar 3\\Data Science\\A2\\home-depot-product-search-relevance\\product_descriptions.csv\\product_descriptions.csv')\n",
    "\n",
    "num_train = df_train.shape[0]\n",
    "\n",
    "def str_stemmer(s):\n",
    "    return \" \".join([stemmer.stem(word) for word in s.lower().split()])\n",
    "\n",
    "def str_common_word(str1, str2):\n",
    "    return sum(int(str2.find(word)>=0) for word in str1.split())\n",
    "\n",
    "\n",
    "\n",
    "\n",
    "df_all = pd.concat((df_train, df_test), axis=0, ignore_index=True)\n",
    "\n",
    "df_all = pd.merge(df_all, df_pro_desc, how='left', on='product_uid')\n",
    "\n",
    "df_all['search_term'] = df_all['search_term'].map(lambda x:str_stemmer(x))\n",
    "df_all['product_title'] = df_all['product_title'].map(lambda x:str_stemmer(x))\n",
    "df_all['product_description'] = df_all['product_description'].map(lambda x:str_stemmer(x))\n",
    "\n",
    "df_all['len_of_query'] = df_all['search_term'].map(lambda x:len(x.split())).astype(np.int64)\n",
    "\n",
    "df_all['product_info'] = df_all['search_term']+\"\\t\"+df_all['product_title']+\"\\t\"+df_all['product_description']\n",
    "\n",
    "df_all['word_in_title'] = df_all['product_info'].map(lambda x:str_common_word(x.split('\\t')[0],x.split('\\t')[1]))\n",
    "df_all['word_in_description'] = df_all['product_info'].map(lambda x:str_common_word(x.split('\\t')[0],x.split('\\t')[2]))\n",
    "\n",
    "df_all = df_all.drop(['search_term','product_title','product_description','product_info'],axis=1)\n",
    "\n",
    "df_train, df_test = train_test_split(df_all, test_size=0.2)\n",
    "#df_test = df_all.iloc[num_train:]\n",
    "id_test = df_test['id']\n",
    "y_true = df_test['relevance'].values\n",
    "y_train = df_train['relevance'].values\n",
    "X_train = df_train.drop(['id','relevance'],axis=1).values\n",
    "X_test = df_test.drop(['id','relevance'],axis=1).values\n",
    "\n",
    "\n",
    "#rf = RandomForestRegressor(n_estimators=15, max_depth=6, random_state=0)\n",
    "#clf = BaggingRegressor(rf, n_estimators=45, max_samples=0.1, random_state=25)\n",
    "#clf.fit(X_train, y_train)\n",
    "#y_pred = clf.predict(X_test)\n",
    "\n",
    "#pd.DataFrame({\"id\": id_test, \"relevance\": y_pred}).to_csv('submission.csv',index=False)"
   ]
  },
  {
   "cell_type": "code",
   "execution_count": 72,
   "id": "0176feb0",
   "metadata": {},
   "outputs": [
    {
     "name": "stdout",
     "output_type": "stream",
     "text": [
      "166693\n"
     ]
    }
   ],
   "source": [
    "from sklearn.metrics import mean_squared_error\n",
    "\n",
    "#RMSE = mean_squared_error(y_true, y_pred)\n",
    "print(len(y_pred))"
   ]
  }
 ],
 "metadata": {
  "kernelspec": {
   "display_name": "Python 3 (ipykernel)",
   "language": "python",
   "name": "python3"
  },
  "language_info": {
   "codemirror_mode": {
    "name": "ipython",
    "version": 3
   },
   "file_extension": ".py",
   "mimetype": "text/x-python",
   "name": "python",
   "nbconvert_exporter": "python",
   "pygments_lexer": "ipython3",
   "version": "3.8.3"
  }
 },
 "nbformat": 4,
 "nbformat_minor": 5
}
